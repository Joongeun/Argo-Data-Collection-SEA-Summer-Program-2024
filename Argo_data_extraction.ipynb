{
  "cells": [
    {
      "cell_type": "markdown",
      "metadata": {
        "id": "view-in-github",
        "colab_type": "text"
      },
      "source": [
        "<a href=\"https://colab.research.google.com/github/Joongeun/argo_proj/blob/main/Argo_data_extraction.ipynb\" target=\"_parent\"><img src=\"https://colab.research.google.com/assets/colab-badge.svg\" alt=\"Open In Colab\"/></a>"
      ]
    },
    {
      "cell_type": "code",
      "execution_count": null,
      "metadata": {
        "id": "wNaMQFgQyI4t"
      },
      "outputs": [],
      "source": [
        "!pip install netCDF4\n",
        "!pip install toolz\n",
        "!pip install erddapy\n",
        "!pip install fsspec\n",
        "!pip install aiohttp\n",
        "!pip install packaging\n",
        "!pip install requests\n",
        "!pip install decorator\n",
        "!pip install xarray==0.20.1\n",
        "!pip install scipy==1.7.1\n",
        "!pip install argopy"
      ]
    },
    {
      "cell_type": "code",
      "execution_count": null,
      "metadata": {
        "id": "kuNkUDwEJODx"
      },
      "outputs": [],
      "source": [
        "l = []"
      ]
    },
    {
      "cell_type": "code",
      "execution_count": null,
      "metadata": {
        "id": "EVcnxeYMF7jw"
      },
      "outputs": [],
      "source": [
        "for i in l:\n",
        "  print(i['TIME'][0])"
      ]
    },
    {
      "cell_type": "code",
      "execution_count": null,
      "metadata": {
        "colab": {
          "base_uri": "https://localhost:8080/"
        },
        "id": "w3EvsZWKIgeK",
        "outputId": "545a2025-64f7-41fa-e989-7a1223eb6df7",
        "collapsed": true
      },
      "outputs": [
        {
          "output_type": "stream",
          "name": "stdout",
          "text": [
            "<datafetcher.erddap>\n",
            "Name: Ifremer erddap Argo data fetcher for a space/time region\n",
            "API: https://erddap.ifremer.fr/erddap\n",
            "Domain: [x=-83.00/-42.00; y=23.00/42.0 ... 40.0; t=2010-01-01/2010-02-01]\n",
            "Performances: cache=False, parallel=False\n",
            "User mode: standard\n",
            "Dataset: phy\n",
            "<datafetcher.erddap>\n",
            "Name: Ifremer erddap Argo data fetcher for a space/time region\n",
            "API: https://erddap.ifremer.fr/erddap\n",
            "Domain: [x=-83.00/-42.00; y=23.00/42.0 ... 40.0; t=2010-02-01/2010-03-01]\n",
            "Performances: cache=False, parallel=False\n",
            "User mode: standard\n",
            "Dataset: phy\n",
            "<datafetcher.erddap>\n",
            "Name: Ifremer erddap Argo data fetcher for a space/time region\n",
            "API: https://erddap.ifremer.fr/erddap\n",
            "Domain: [x=-83.00/-42.00; y=23.00/42.0 ... 40.0; t=2010-03-01/2010-04-01]\n",
            "Performances: cache=False, parallel=False\n",
            "User mode: standard\n",
            "Dataset: phy\n",
            "<datafetcher.erddap>\n",
            "Name: Ifremer erddap Argo data fetcher for a space/time region\n",
            "API: https://erddap.ifremer.fr/erddap\n",
            "Domain: [x=-83.00/-42.00; y=23.00/42.0 ... 40.0; t=2010-04-01/2010-05-01]\n",
            "Performances: cache=False, parallel=False\n",
            "User mode: standard\n",
            "Dataset: phy\n",
            "<datafetcher.erddap>\n",
            "Name: Ifremer erddap Argo data fetcher for a space/time region\n",
            "API: https://erddap.ifremer.fr/erddap\n",
            "Domain: [x=-83.00/-42.00; y=23.00/42.0 ... 40.0; t=2010-05-01/2010-06-01]\n",
            "Performances: cache=False, parallel=False\n",
            "User mode: standard\n",
            "Dataset: phy\n",
            "<datafetcher.erddap>\n",
            "Name: Ifremer erddap Argo data fetcher for a space/time region\n",
            "API: https://erddap.ifremer.fr/erddap\n",
            "Domain: [x=-83.00/-42.00; y=23.00/42.0 ... 40.0; t=2010-06-01/2010-07-01]\n",
            "Performances: cache=False, parallel=False\n",
            "User mode: standard\n",
            "Dataset: phy\n",
            "<datafetcher.erddap>\n",
            "Name: Ifremer erddap Argo data fetcher for a space/time region\n",
            "API: https://erddap.ifremer.fr/erddap\n",
            "Domain: [x=-83.00/-42.00; y=23.00/42.0 ... 40.0; t=2010-07-01/2010-08-01]\n",
            "Performances: cache=False, parallel=False\n",
            "User mode: standard\n",
            "Dataset: phy\n",
            "<datafetcher.erddap>\n",
            "Name: Ifremer erddap Argo data fetcher for a space/time region\n",
            "API: https://erddap.ifremer.fr/erddap\n",
            "Domain: [x=-83.00/-42.00; y=23.00/42.0 ... 40.0; t=2010-08-01/2010-09-01]\n",
            "Performances: cache=False, parallel=False\n",
            "User mode: standard\n",
            "Dataset: phy\n",
            "<datafetcher.erddap>\n",
            "Name: Ifremer erddap Argo data fetcher for a space/time region\n",
            "API: https://erddap.ifremer.fr/erddap\n",
            "Domain: [x=-83.00/-42.00; y=23.00/42.0 ... 40.0; t=2010-09-01/2010-10-01]\n",
            "Performances: cache=False, parallel=False\n",
            "User mode: standard\n",
            "Dataset: phy\n",
            "<datafetcher.erddap>\n",
            "Name: Ifremer erddap Argo data fetcher for a space/time region\n",
            "API: https://erddap.ifremer.fr/erddap\n",
            "Domain: [x=-83.00/-42.00; y=23.00/42.0 ... 40.0; t=2010-10-01/2010-11-01]\n",
            "Performances: cache=False, parallel=False\n",
            "User mode: standard\n",
            "Dataset: phy\n",
            "<datafetcher.erddap>\n",
            "Name: Ifremer erddap Argo data fetcher for a space/time region\n",
            "API: https://erddap.ifremer.fr/erddap\n",
            "Domain: [x=-83.00/-42.00; y=23.00/42.0 ... 40.0; t=2010-11-01/2010-12-01]\n",
            "Performances: cache=False, parallel=False\n",
            "User mode: standard\n",
            "Dataset: phy\n",
            "<datafetcher.erddap>\n",
            "Name: Ifremer erddap Argo data fetcher for a space/time region\n",
            "API: https://erddap.ifremer.fr/erddap\n",
            "Domain: [x=-83.00/-42.00; y=23.00/42.0 ... 40.0; t=2010-12-01/2011-01-01]\n",
            "Performances: cache=False, parallel=False\n",
            "User mode: standard\n",
            "Dataset: phy\n",
            "2010 done\n"
          ]
        }
      ],
      "source": [
        "#Extracting Argo data for specific region (bounded by min/max longitude/latitude) from 0 - 140m depth from 2010 - 2020. Fetching data by month – otherwise FSTimeout error (when the conversion to dataframe takes 1 min)\n",
        "import argopy\n",
        "from argopy import DataFetcher, IndexFetcher\n",
        "import pandas as pd\n",
        "start = 2009\n",
        "for j in range(1):\n",
        "  start += 1\n",
        "  r=1\n",
        "  for i in range(r, 13):\n",
        "    m1 = i\n",
        "    if i <= 9:\n",
        "      m1 = \"-0\"+str(i)+\"-01\"\n",
        "      m2 = \"-0\"+str(i+1)+\"-01\"\n",
        "      if i == 9:\n",
        "        m2 = \"-10-01\"\n",
        "    elif i == 12:\n",
        "      m1 = \"-12-01\"\n",
        "      m2 = \"-01-01\"\n",
        "    else:\n",
        "      m1 = \"-\"+str(i)+\"-01\"\n",
        "      m2 = \"-\"+str(i+1)+\"-01\"\n",
        "    if i != 12:\n",
        "      #lon_min: float, lon_max: float,\n",
        "      #lat_min: float, lat_max: float,\n",
        "      #dpt_min: float, dpt_max: float,  (depth in meters)\n",
        "      #date_min: str (optional), date_max: str (optional)\n",
        "      f = DataFetcher().region([-83.,-42.,23,42,0,140.,  str(start)+m1, str(start)+m2])\n",
        "    if i == 12:\n",
        "      f = DataFetcher().region([-83.,-42.,23,42,0,140.,  str(start)+m1, str(start+1)+m2])\n",
        "    print(f)\n",
        "    df = f.to_dataframe()\n",
        "    l.append(df)\n",
        "\n",
        "  merged_df = pd.concat(l)\n",
        "  filename = str(start)+\"_argo.csv\"\n",
        "  merged_df.to_csv(filename)\n",
        "  print(str(start), \"done\")"
      ]
    }
  ],
  "metadata": {
    "colab": {
      "provenance": [],
      "authorship_tag": "ABX9TyORc1rsm1zPjx2VcerMYHJs",
      "include_colab_link": true
    },
    "kernelspec": {
      "display_name": "Python 3",
      "name": "python3"
    },
    "language_info": {
      "name": "python"
    }
  },
  "nbformat": 4,
  "nbformat_minor": 0
}